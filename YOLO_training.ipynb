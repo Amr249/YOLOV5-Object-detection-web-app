{
 "cells": [
  {
   "cell_type": "code",
   "execution_count": 1,
   "metadata": {},
   "outputs": [],
   "source": [
    "import os\n",
    "os.chdir(r'C:\\ai_projects\\yolo-object-detection-web\\YOLO_training')"
   ]
  },
  {
   "cell_type": "code",
   "execution_count": 2,
   "metadata": {},
   "outputs": [
    {
     "name": "stdout",
     "output_type": "stream",
     "text": [
      " Volume in drive C is Windows\n",
      " Volume Serial Number is 50C7-B2C6\n",
      "\n",
      " Directory of C:\\ai_projects\\yolo-object-detection-web\\YOLO_training\n",
      "\n",
      "11/03/2024  10:27 PM    <DIR>          .\n",
      "11/03/2024  10:26 PM    <DIR>          ..\n",
      "11/03/2024  10:35 PM             5,191 YOLO_training.ipynb\n",
      "10/31/2024  02:30 PM    <DIR>          yolov5\n",
      "               1 File(s)          5,191 bytes\n",
      "               3 Dir(s)  187,850,584,064 bytes free\n"
     ]
    }
   ],
   "source": [
    "ls"
   ]
  },
  {
   "cell_type": "markdown",
   "metadata": {},
   "source": [
    "## Integrate YOLOV9"
   ]
  },
  {
   "cell_type": "code",
   "execution_count": 3,
   "metadata": {},
   "outputs": [
    {
     "name": "stderr",
     "output_type": "stream",
     "text": [
      "fatal: destination path 'yolov5' already exists and is not an empty directory.\n"
     ]
    }
   ],
   "source": [
    "!git clone https://github.com/ultralytics/yolov5.git"
   ]
  },
  {
   "cell_type": "code",
   "execution_count": 4,
   "metadata": {},
   "outputs": [],
   "source": [
    "os.chdir('yolov5')"
   ]
  },
  {
   "cell_type": "code",
   "execution_count": 5,
   "metadata": {},
   "outputs": [
    {
     "name": "stdout",
     "output_type": "stream",
     "text": [
      " Volume in drive C is Windows\n",
      " Volume Serial Number is 50C7-B2C6\n",
      "\n",
      " Directory of C:\\ai_projects\\yolo-object-detection-web\\YOLO_training\\yolov5\n",
      "\n",
      "10/31/2024  02:30 PM    <DIR>          .\n",
      "11/03/2024  10:27 PM    <DIR>          ..\n",
      "10/31/2024  02:16 PM             3,923 .dockerignore\n",
      "10/31/2024  02:16 PM                77 .gitattributes\n",
      "10/31/2024  02:16 PM    <DIR>          .github\n",
      "10/31/2024  02:16 PM             4,268 .gitignore\n",
      "10/31/2024  02:20 PM    <DIR>          __pycache__\n",
      "10/31/2024  02:16 PM            14,414 benchmarks.py\n",
      "10/31/2024  02:16 PM               407 CITATION.cff\n",
      "10/31/2024  02:16 PM    <DIR>          classify\n",
      "10/31/2024  02:16 PM             5,082 CONTRIBUTING.md\n",
      "10/31/2024  02:16 PM    <DIR>          data\n",
      "10/30/2024  05:13 PM               320 data.yaml\n",
      "10/31/2024  02:21 PM    <DIR>          data_images\n",
      "10/31/2024  02:16 PM            24,128 detect.py\n",
      "10/31/2024  02:16 PM            69,254 export.py\n",
      "10/31/2024  02:16 PM            24,478 hubconf.py\n",
      "10/31/2024  02:16 PM            35,184 LICENSE\n",
      "10/31/2024  02:20 PM    <DIR>          models\n",
      "10/31/2024  02:16 PM             5,524 pyproject.toml\n",
      "10/31/2024  02:16 PM            43,731 README.md\n",
      "10/31/2024  02:16 PM            43,840 README.zh-CN.md\n",
      "10/31/2024  02:16 PM             1,647 requirements.txt\n",
      "10/31/2024  02:22 PM    <DIR>          runs\n",
      "10/31/2024  02:16 PM    <DIR>          segment\n",
      "10/31/2024  02:16 PM            48,116 train.py\n",
      "10/31/2024  02:16 PM            42,051 tutorial.ipynb\n",
      "10/31/2024  02:20 PM    <DIR>          utils\n",
      "10/31/2024  02:16 PM            31,027 val.py\n",
      "10/31/2024  02:30 PM        14,808,437 yolov5s.pt\n",
      "              19 File(s)     15,205,908 bytes\n",
      "              11 Dir(s)  187,197,140,992 bytes free\n"
     ]
    }
   ],
   "source": [
    "ls"
   ]
  },
  {
   "cell_type": "markdown",
   "metadata": {},
   "source": [
    "### Install all required packages from requriments.tx"
   ]
  },
  {
   "cell_type": "code",
   "execution_count": 6,
   "metadata": {},
   "outputs": [
    {
     "name": "stdout",
     "output_type": "stream",
     "text": [
      "Defaulting to user installation because normal site-packages is not writeable\n",
      "Requirement already satisfied: gitpython>=3.1.30 in c:\\programdata\\anaconda3\\lib\\site-packages (from -r requirements.txt (line 5)) (3.1.43)\n",
      "Requirement already satisfied: matplotlib>=3.3 in c:\\programdata\\anaconda3\\lib\\site-packages (from -r requirements.txt (line 6)) (3.9.2)\n",
      "Requirement already satisfied: numpy>=1.23.5 in c:\\programdata\\anaconda3\\lib\\site-packages (from -r requirements.txt (line 7)) (1.26.4)\n",
      "Requirement already satisfied: opencv-python>=4.1.1 in c:\\users\\عمرو قمر الدولة\\appdata\\roaming\\python\\python312\\site-packages (from -r requirements.txt (line 8)) (4.10.0.84)\n",
      "Requirement already satisfied: pillow>=10.3.0 in c:\\programdata\\anaconda3\\lib\\site-packages (from -r requirements.txt (line 9)) (10.4.0)\n",
      "Requirement already satisfied: psutil in c:\\users\\عمرو قمر الدولة\\appdata\\roaming\\python\\python312\\site-packages (from -r requirements.txt (line 10)) (6.0.0)\n",
      "Requirement already satisfied: PyYAML>=5.3.1 in c:\\programdata\\anaconda3\\lib\\site-packages (from -r requirements.txt (line 11)) (6.0.1)\n",
      "Requirement already satisfied: requests>=2.32.2 in c:\\programdata\\anaconda3\\lib\\site-packages (from -r requirements.txt (line 12)) (2.32.3)\n",
      "Requirement already satisfied: scipy>=1.4.1 in c:\\programdata\\anaconda3\\lib\\site-packages (from -r requirements.txt (line 13)) (1.13.1)\n",
      "Requirement already satisfied: thop>=0.1.1 in c:\\users\\عمرو قمر الدولة\\appdata\\roaming\\python\\python312\\site-packages (from -r requirements.txt (line 14)) (0.1.1.post2209072238)\n",
      "Requirement already satisfied: torch>=1.8.0 in c:\\users\\عمرو قمر الدولة\\appdata\\roaming\\python\\python312\\site-packages (from -r requirements.txt (line 15)) (2.5.1)\n",
      "Requirement already satisfied: torchvision>=0.9.0 in c:\\users\\عمرو قمر الدولة\\appdata\\roaming\\python\\python312\\site-packages (from -r requirements.txt (line 16)) (0.20.1)\n",
      "Requirement already satisfied: tqdm>=4.66.3 in c:\\programdata\\anaconda3\\lib\\site-packages (from -r requirements.txt (line 17)) (4.66.5)\n",
      "Requirement already satisfied: ultralytics>=8.2.34 in c:\\users\\عمرو قمر الدولة\\appdata\\roaming\\python\\python312\\site-packages (from -r requirements.txt (line 18)) (8.3.25)\n",
      "Requirement already satisfied: pandas>=1.1.4 in c:\\programdata\\anaconda3\\lib\\site-packages (from -r requirements.txt (line 27)) (2.2.2)\n",
      "Requirement already satisfied: seaborn>=0.11.0 in c:\\programdata\\anaconda3\\lib\\site-packages (from -r requirements.txt (line 28)) (0.13.2)\n",
      "Requirement already satisfied: setuptools>=70.0.0 in c:\\programdata\\anaconda3\\lib\\site-packages (from -r requirements.txt (line 42)) (75.1.0)\n",
      "Requirement already satisfied: gitdb<5,>=4.0.1 in c:\\programdata\\anaconda3\\lib\\site-packages (from gitpython>=3.1.30->-r requirements.txt (line 5)) (4.0.7)\n",
      "Requirement already satisfied: contourpy>=1.0.1 in c:\\programdata\\anaconda3\\lib\\site-packages (from matplotlib>=3.3->-r requirements.txt (line 6)) (1.2.0)\n",
      "Requirement already satisfied: cycler>=0.10 in c:\\programdata\\anaconda3\\lib\\site-packages (from matplotlib>=3.3->-r requirements.txt (line 6)) (0.11.0)\n",
      "Requirement already satisfied: fonttools>=4.22.0 in c:\\programdata\\anaconda3\\lib\\site-packages (from matplotlib>=3.3->-r requirements.txt (line 6)) (4.51.0)\n",
      "Requirement already satisfied: kiwisolver>=1.3.1 in c:\\programdata\\anaconda3\\lib\\site-packages (from matplotlib>=3.3->-r requirements.txt (line 6)) (1.4.4)\n",
      "Requirement already satisfied: packaging>=20.0 in c:\\users\\عمرو قمر الدولة\\appdata\\roaming\\python\\python312\\site-packages (from matplotlib>=3.3->-r requirements.txt (line 6)) (24.1)\n",
      "Requirement already satisfied: pyparsing>=2.3.1 in c:\\programdata\\anaconda3\\lib\\site-packages (from matplotlib>=3.3->-r requirements.txt (line 6)) (3.1.2)\n",
      "Requirement already satisfied: python-dateutil>=2.7 in c:\\users\\عمرو قمر الدولة\\appdata\\roaming\\python\\python312\\site-packages (from matplotlib>=3.3->-r requirements.txt (line 6)) (2.9.0.post0)\n",
      "Requirement already satisfied: charset-normalizer<4,>=2 in c:\\programdata\\anaconda3\\lib\\site-packages (from requests>=2.32.2->-r requirements.txt (line 12)) (3.3.2)\n",
      "Requirement already satisfied: idna<4,>=2.5 in c:\\programdata\\anaconda3\\lib\\site-packages (from requests>=2.32.2->-r requirements.txt (line 12)) (3.7)\n",
      "Requirement already satisfied: urllib3<3,>=1.21.1 in c:\\programdata\\anaconda3\\lib\\site-packages (from requests>=2.32.2->-r requirements.txt (line 12)) (2.2.3)\n",
      "Requirement already satisfied: certifi>=2017.4.17 in c:\\programdata\\anaconda3\\lib\\site-packages (from requests>=2.32.2->-r requirements.txt (line 12)) (2024.8.30)\n",
      "Requirement already satisfied: filelock in c:\\programdata\\anaconda3\\lib\\site-packages (from torch>=1.8.0->-r requirements.txt (line 15)) (3.13.1)\n",
      "Requirement already satisfied: typing-extensions>=4.8.0 in c:\\programdata\\anaconda3\\lib\\site-packages (from torch>=1.8.0->-r requirements.txt (line 15)) (4.11.0)\n",
      "Requirement already satisfied: networkx in c:\\programdata\\anaconda3\\lib\\site-packages (from torch>=1.8.0->-r requirements.txt (line 15)) (3.3)\n",
      "Requirement already satisfied: jinja2 in c:\\programdata\\anaconda3\\lib\\site-packages (from torch>=1.8.0->-r requirements.txt (line 15)) (3.1.4)\n",
      "Requirement already satisfied: fsspec in c:\\programdata\\anaconda3\\lib\\site-packages (from torch>=1.8.0->-r requirements.txt (line 15)) (2024.6.1)\n",
      "Requirement already satisfied: sympy==1.13.1 in c:\\users\\عمرو قمر الدولة\\appdata\\roaming\\python\\python312\\site-packages (from torch>=1.8.0->-r requirements.txt (line 15)) (1.13.1)\n",
      "Requirement already satisfied: mpmath<1.4,>=1.1.0 in c:\\programdata\\anaconda3\\lib\\site-packages (from sympy==1.13.1->torch>=1.8.0->-r requirements.txt (line 15)) (1.3.0)\n",
      "Requirement already satisfied: colorama in c:\\users\\عمرو قمر الدولة\\appdata\\roaming\\python\\python312\\site-packages (from tqdm>=4.66.3->-r requirements.txt (line 17)) (0.4.6)\n",
      "Requirement already satisfied: py-cpuinfo in c:\\programdata\\anaconda3\\lib\\site-packages (from ultralytics>=8.2.34->-r requirements.txt (line 18)) (9.0.0)\n",
      "Requirement already satisfied: ultralytics-thop>=2.0.0 in c:\\users\\عمرو قمر الدولة\\appdata\\roaming\\python\\python312\\site-packages (from ultralytics>=8.2.34->-r requirements.txt (line 18)) (2.0.10)\n",
      "Requirement already satisfied: pytz>=2020.1 in c:\\programdata\\anaconda3\\lib\\site-packages (from pandas>=1.1.4->-r requirements.txt (line 27)) (2024.1)\n",
      "Requirement already satisfied: tzdata>=2022.7 in c:\\programdata\\anaconda3\\lib\\site-packages (from pandas>=1.1.4->-r requirements.txt (line 27)) (2023.3)\n",
      "Requirement already satisfied: smmap<5,>=3.0.1 in c:\\programdata\\anaconda3\\lib\\site-packages (from gitdb<5,>=4.0.1->gitpython>=3.1.30->-r requirements.txt (line 5)) (4.0.0)\n",
      "Requirement already satisfied: six>=1.5 in c:\\users\\عمرو قمر الدولة\\appdata\\roaming\\python\\python312\\site-packages (from python-dateutil>=2.7->matplotlib>=3.3->-r requirements.txt (line 6)) (1.16.0)\n",
      "Requirement already satisfied: MarkupSafe>=2.0 in c:\\programdata\\anaconda3\\lib\\site-packages (from jinja2->torch>=1.8.0->-r requirements.txt (line 15)) (2.1.3)\n"
     ]
    }
   ],
   "source": [
    "!pip install -r requirements.txt"
   ]
  },
  {
   "cell_type": "markdown",
   "metadata": {},
   "source": [
    "### Training YOLO V5 Model"
   ]
  },
  {
   "cell_type": "code",
   "execution_count": null,
   "metadata": {},
   "outputs": [],
   "source": [
    "!python train.py --img 640 --batch 16 --epochs 50 --data data.yaml --weights yolov5s.pt --cache"
   ]
  },
  {
   "cell_type": "code",
   "execution_count": 10,
   "metadata": {},
   "outputs": [
    {
     "name": "stderr",
     "output_type": "stream",
     "text": [
      "\u001b[34m\u001b[1mexport: \u001b[0mdata=C:\\ai_projects\\yolo-object-detection-web\\YOLO_training\\yolov5\\data\\coco128.yaml, weights=['runs/train/Model/weights/best.pt'], imgsz=[640, 640], batch_size=1, device=cpu, half=False, inplace=False, keras=False, optimize=False, int8=False, per_tensor=False, dynamic=False, simplify=True, mlmodel=False, opset=12, verbose=False, workspace=4, nms=False, agnostic_nms=False, topk_per_class=100, topk_all=100, iou_thres=0.45, conf_thres=0.25, include=['onnx']\n",
      "YOLOv5  v7.0-378-g2f74455a Python-3.12.7 torch-2.5.1+cpu CPU\n",
      "\n",
      "Traceback (most recent call last):\n",
      "  File \"C:\\ai_projects\\yolo-object-detection-web\\YOLO_training\\yolov5\\export.py\", line 1530, in <module>\n",
      "    main(opt)\n",
      "  File \"C:\\ai_projects\\yolo-object-detection-web\\YOLO_training\\yolov5\\export.py\", line 1525, in main\n",
      "    run(**vars(opt))\n",
      "  File \"C:\\Users\\عمرو قمر الدولة\\AppData\\Roaming\\Python\\Python312\\site-packages\\torch\\utils\\_contextlib.py\", line 116, in decorate_context\n",
      "    return func(*args, **kwargs)\n",
      "           ^^^^^^^^^^^^^^^^^^^^^\n",
      "  File \"C:\\ai_projects\\yolo-object-detection-web\\YOLO_training\\yolov5\\export.py\", line 1371, in run\n",
      "    model = attempt_load(weights, device=device, inplace=True, fuse=True)  # load FP32 model\n",
      "            ^^^^^^^^^^^^^^^^^^^^^^^^^^^^^^^^^^^^^^^^^^^^^^^^^^^^^^^^^^^^^\n",
      "  File \"C:\\ai_projects\\yolo-object-detection-web\\YOLO_training\\yolov5\\models\\experimental.py\", line 98, in attempt_load\n",
      "    ckpt = torch.load(attempt_download(w), map_location=\"cpu\")  # load\n",
      "           ^^^^^^^^^^^^^^^^^^^^^^^^^^^^^^^^^^^^^^^^^^^^^^^^^^^\n",
      "  File \"C:\\Users\\عمرو قمر الدولة\\AppData\\Roaming\\Python\\Python312\\site-packages\\ultralytics\\utils\\patches.py\", line 86, in torch_load\n",
      "    return _torch_load(*args, **kwargs)\n",
      "           ^^^^^^^^^^^^^^^^^^^^^^^^^^^^\n",
      "  File \"C:\\Users\\عمرو قمر الدولة\\AppData\\Roaming\\Python\\Python312\\site-packages\\torch\\serialization.py\", line 1319, in load\n",
      "    with _open_file_like(f, \"rb\") as opened_file:\n",
      "         ^^^^^^^^^^^^^^^^^^^^^^^^\n",
      "  File \"C:\\Users\\عمرو قمر الدولة\\AppData\\Roaming\\Python\\Python312\\site-packages\\torch\\serialization.py\", line 659, in _open_file_like\n",
      "    return _open_file(name_or_buffer, mode)\n",
      "           ^^^^^^^^^^^^^^^^^^^^^^^^^^^^^^^^\n",
      "  File \"C:\\Users\\عمرو قمر الدولة\\AppData\\Roaming\\Python\\Python312\\site-packages\\torch\\serialization.py\", line 640, in __init__\n",
      "    super().__init__(open(name, mode))\n",
      "                     ^^^^^^^^^^^^^^^^\n",
      "FileNotFoundError: [Errno 2] No such file or directory: 'runs\\\\train\\\\Model\\\\weights\\\\best.pt'\n"
     ]
    }
   ],
   "source": [
    " !python export.py --weights runs/train/Model/weights/best.pt --include onnx --simplify --opset 12"
   ]
  },
  {
   "cell_type": "code",
   "execution_count": null,
   "metadata": {},
   "outputs": [],
   "source": []
  }
 ],
 "metadata": {
  "kernelspec": {
   "display_name": "base",
   "language": "python",
   "name": "python3"
  },
  "language_info": {
   "codemirror_mode": {
    "name": "ipython",
    "version": 3
   },
   "file_extension": ".py",
   "mimetype": "text/x-python",
   "name": "python",
   "nbconvert_exporter": "python",
   "pygments_lexer": "ipython3",
   "version": "3.12.7"
  }
 },
 "nbformat": 4,
 "nbformat_minor": 2
}
